{
 "cells": [
  {
   "cell_type": "markdown",
   "id": "34bcd1a6",
   "metadata": {},
   "source": [
    "# Print statement\n",
    "Print statements will generally use the python f-string style.\n",
    "Try both methods of running the cell."
   ]
  },
  {
   "cell_type": "code",
   "execution_count": 1,
   "id": "31d08488",
   "metadata": {},
   "outputs": [
    {
     "name": "stdout",
     "output_type": "stream",
     "text": [
      "f strings allow you to embed variables right in the strings!\n",
      "This is my first f string in Jupyter notebook\n"
     ]
    }
   ],
   "source": [
    "# print statements\n",
    "variable = \"right in the strings!\"\n",
    "print(f\"f strings allow you to embed variables {variable}\")\n",
    "v = \"in Jupyter notebook\"\n",
    "print(f\"This is my first f string {v}\")"
   ]
  },
  {
   "cell_type": "code",
   "execution_count": null,
   "id": "21be3ef4",
   "metadata": {},
   "outputs": [],
   "source": []
  }
 ],
 "metadata": {
  "kernelspec": {
   "display_name": "Python 3 (ipykernel)",
   "language": "python",
   "name": "python3"
  },
  "language_info": {
   "codemirror_mode": {
    "name": "ipython",
    "version": 3
   },
   "file_extension": ".py",
   "mimetype": "text/x-python",
   "name": "python",
   "nbconvert_exporter": "python",
   "pygments_lexer": "ipython3",
   "version": "3.11.1"
  }
 },
 "nbformat": 4,
 "nbformat_minor": 5
}
